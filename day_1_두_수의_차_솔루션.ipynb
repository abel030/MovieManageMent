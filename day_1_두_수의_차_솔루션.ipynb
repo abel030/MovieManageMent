{
  "nbformat": 4,
  "nbformat_minor": 0,
  "metadata": {
    "colab": {
      "provenance": [],
      "mount_file_id": "1IE1E3ocY8K9v0OyAN0urSvssNheJgpw2",
      "authorship_tag": "ABX9TyPutS7Dy26dkeRxzfkIUJLn",
      "include_colab_link": true
    },
    "kernelspec": {
      "name": "python3",
      "display_name": "Python 3"
    },
    "language_info": {
      "name": "python"
    }
  },
  "cells": [
    {
      "cell_type": "markdown",
      "metadata": {
        "id": "view-in-github",
        "colab_type": "text"
      },
      "source": [
        "<a href=\"https://colab.research.google.com/github/abel030/MovieManageMent/blob/master/day_1_%E1%84%83%E1%85%AE_%E1%84%89%E1%85%AE%E1%84%8B%E1%85%B4_%E1%84%8E%E1%85%A1_%E1%84%89%E1%85%A9%E1%86%AF%E1%84%85%E1%85%AE%E1%84%89%E1%85%A7%E1%86%AB.ipynb\" target=\"_parent\"><img src=\"https://colab.research.google.com/assets/colab-badge.svg\" alt=\"Open In Colab\"/></a>"
      ]
    },
    {
      "cell_type": "code",
      "execution_count": null,
      "metadata": {
        "id": "ckxIh_0wXYKU"
      },
      "outputs": [],
      "source": [
        "두 수의 차\n",
        "문제 설명\n",
        "정수 num1과 num2가 주어질 때, num1에서 num2를 뺀 값을 return하도록 soltuion 함수를 완성해주세요.\n",
        "\n",
        "제한사항\n",
        "-50000 ≤ num1 ≤ 50000\n",
        "-50000 ≤ num2 ≤ 50000\n",
        "입출력 예\n",
        "num1\tnum2\tresult\n",
        "2\t3\t-1\n",
        "100\t2\t98\n",
        "입출력 예 설명\n",
        "입출력 예 #1\n",
        "\n",
        "num1이 2이고 num2가 3이므로 2 - 3 = -1을 return합니다.\n",
        "입출력 예 #2\n",
        "\n",
        "num1이 100이고 num2가 2이므로 100 - 2 = 98을 return합니다"
      ]
    },
    {
      "cell_type": "markdown",
      "source": [],
      "metadata": {
        "id": "nJlb4R1SXuOX"
      }
    },
    {
      "cell_type": "code",
      "source": [
        "def solution(num1, num2):\n",
        "    answer = (num1-num2)\n",
        "    return answer"
      ],
      "metadata": {
        "id": "4ayiEM4oXwbC"
      },
      "execution_count": 1,
      "outputs": []
    }
  ]
}